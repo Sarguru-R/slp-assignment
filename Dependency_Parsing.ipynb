{
  "cells": [
    {
      "cell_type": "code",
      "execution_count": null,
      "metadata": {
        "colab": {
          "base_uri": "https://localhost:8080/"
        },
        "id": "bNAuB6BSznah",
        "outputId": "6d8a1e42-d9f0-4282-dba0-aa4a91985f9e"
      },
      "outputs": [
        {
          "ename": "",
          "evalue": "",
          "output_type": "error",
          "traceback": [
            "\u001b[1;31mRunning cells with 'c:\\Program Files\\Python310\\python.exe' requires the ipykernel package.\n",
            "\u001b[1;31mRun the following command to install 'ipykernel' into the Python environment. \n",
            "\u001b[1;31mCommand: '\"c:/Program Files/Python310/python.exe\" -m pip install ipykernel -U --user --force-reinstall'"
          ]
        }
      ],
      "source": [
        "!pip install spacy\n",
        "!python -m spacy download en_core_web_sm"
      ]
    },
    {
      "cell_type": "code",
      "execution_count": 1,
      "metadata": {
        "colab": {
          "base_uri": "https://localhost:8080/"
        },
        "id": "oYZgi8bnzrAC",
        "outputId": "eddc405b-f137-41ab-bec3-2bd4e610feab"
      },
      "outputs": [
        {
          "name": "stdout",
          "output_type": "stream",
          "text": [
            "('Gokul', 'nsubj', 'running')\n",
            "('is', 'aux', 'running')\n",
            "('running', 'ROOT', 'running')\n"
          ]
        }
      ],
      "source": [
        "import spacy\n",
        "\n",
        "# Load the English language model\n",
        "nlp = spacy.load(\"en_core_web_sm\")\n",
        "\n",
        "# Define a function to parse sentences using SpaCy's dependency parser\n",
        "def parse_with_spacy(sentence):\n",
        "    doc = nlp(sentence)\n",
        "    dependencies = [(token.text, token.dep_, token.head.text) for token in doc]\n",
        "    return dependencies, doc\n",
        "\n",
        "\n",
        "# Test the dependency parser function\n",
        "sentence = \"Jallikattu is a tamilnadu pride\"\n",
        "parsed_dependencies, doc = parse_with_spacy(sentence)\n",
        "\n",
        "# Display parsed dependencies\n",
        "for dep in parsed_dependencies:\n",
        "    print(dep)"
      ]
    }
  ],
  "metadata": {
    "colab": {
      "provenance": []
    },
    "kernelspec": {
      "display_name": "Python 3",
      "name": "python3"
    },
    "language_info": {
      "name": "python",
      "version": "3.10.4"
    }
  },
  "nbformat": 4,
  "nbformat_minor": 0
}
